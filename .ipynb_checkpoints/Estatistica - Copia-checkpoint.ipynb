{
 "cells": [
  {
   "cell_type": "code",
   "execution_count": 1,
   "metadata": {},
   "outputs": [],
   "source": [
    "import pandas as pd\n",
    "import numpy as np\n",
    "import seaborn as sb\n",
    "import seaborn as sns\n",
    "%matplotlib inline\n",
    "import matplotlib.pyplot as plt\n",
    "import math"
   ]
  },
  {
   "cell_type": "code",
   "execution_count": 2,
   "metadata": {
    "scrolled": true
   },
   "outputs": [],
   "source": [
    "# Carregando o arquivo CSV\n",
    "frame = pd.read_csv('calcular.csv')\n"
   ]
  },
  {
   "cell_type": "code",
   "execution_count": 3,
   "metadata": {},
   "outputs": [
    {
     "data": {
      "text/html": [
       "<div>\n",
       "<style scoped>\n",
       "    .dataframe tbody tr th:only-of-type {\n",
       "        vertical-align: middle;\n",
       "    }\n",
       "\n",
       "    .dataframe tbody tr th {\n",
       "        vertical-align: top;\n",
       "    }\n",
       "\n",
       "    .dataframe thead th {\n",
       "        text-align: right;\n",
       "    }\n",
       "</style>\n",
       "<table border=\"1\" class=\"dataframe\">\n",
       "  <thead>\n",
       "    <tr style=\"text-align: right;\">\n",
       "      <th></th>\n",
       "      <th>X</th>\n",
       "      <th>Y</th>\n",
       "    </tr>\n",
       "  </thead>\n",
       "  <tbody>\n",
       "    <tr>\n",
       "      <th>0</th>\n",
       "      <td>1</td>\n",
       "      <td>2</td>\n",
       "    </tr>\n",
       "    <tr>\n",
       "      <th>1</th>\n",
       "      <td>3</td>\n",
       "      <td>4</td>\n",
       "    </tr>\n",
       "    <tr>\n",
       "      <th>2</th>\n",
       "      <td>5</td>\n",
       "      <td>6</td>\n",
       "    </tr>\n",
       "    <tr>\n",
       "      <th>3</th>\n",
       "      <td>7</td>\n",
       "      <td>8</td>\n",
       "    </tr>\n",
       "  </tbody>\n",
       "</table>\n",
       "</div>"
      ],
      "text/plain": [
       "   X  Y\n",
       "0  1  2\n",
       "1  3  4\n",
       "2  5  6\n",
       "3  7  8"
      ]
     },
     "execution_count": 3,
     "metadata": {},
     "output_type": "execute_result"
    }
   ],
   "source": [
    "# Exibindo os dados carregados\n",
    "frame\n"
   ]
  },
  {
   "cell_type": "code",
   "execution_count": 4,
   "metadata": {},
   "outputs": [],
   "source": [
    "# Recebendo o total de valores da coluna de dados\n",
    "size = frame.shape[0]\n"
   ]
  },
  {
   "cell_type": "code",
   "execution_count": 5,
   "metadata": {},
   "outputs": [],
   "source": [
    "# Obtendo Xbarra e Ybarra\n",
    "mediaX = frame['X'].sum() / size\n",
    "mediaY = frame['Y'].sum() / size"
   ]
  },
  {
   "cell_type": "code",
   "execution_count": 6,
   "metadata": {},
   "outputs": [],
   "source": [
    "# Completa a Tabela (Xi – Xbarra) e (Yi – Ybarra)\n",
    "for cont in range(size):\n",
    "    frame.loc[cont, '(Xi – Xbarra)']                   = frame.loc[cont, 'X'] - mediaX\n",
    "    frame.loc[cont, '(Yi – Ybarra)']                   = frame.loc[cont, 'Y'] - mediaY\n",
    "    frame.loc[cont, '(Xi – Xbarra)*(Yi – Ybarra)']     = frame.loc[cont, '(Xi – Xbarra)'] * frame.loc[cont, '(Yi – Ybarra)']\n",
    "    frame.loc[cont, '(Xi – Xbarra)²']                  = frame.loc[cont, '(Xi – Xbarra)'] ** 2\n",
    "    frame.loc[cont, '(Yi – Ybarra)²']                  = frame.loc[cont, '(Yi – Ybarra)'] ** 2\n",
    "    frame.loc[cont, '(Xi – Xbarra)² * (Yi – Ybarra)²'] = frame.loc[cont, '(Xi – Xbarra)²'] * frame.loc[cont, '(Yi – Ybarra)²']\n"
   ]
  },
  {
   "cell_type": "code",
   "execution_count": 7,
   "metadata": {},
   "outputs": [],
   "source": [
    "# Soma dos resultados das tabelas para calcular a Correlação da reta\n",
    "somaXxY = frame['(Xi – Xbarra)*(Yi – Ybarra)'].sum()\n",
    "somaX2  = frame['(Xi – Xbarra)²'].sum()\n",
    "somaY2  = frame['(Yi – Ybarra)²'].sum()\n",
    "X2xY2   = somaX2 * somaY2\n"
   ]
  },
  {
   "cell_type": "code",
   "execution_count": 8,
   "metadata": {},
   "outputs": [
    {
     "name": "stdout",
     "output_type": "stream",
     "text": [
      "Soma do total (Xi – Xbarra)*(Yi – Ybarra)     :  20.0\n",
      "Soma do total (Xi – Xbarra)²                  :  20.0\n",
      "Soma do total (Yi – Ybarra)²                  :  20.0\n",
      "Soma do total (Yi – Ybarra)²                  :  20.0\n",
      "Soma do total (Xi – Xbarra)² * (Yi – Ybarra)² :  400.0\n"
     ]
    }
   ],
   "source": [
    "# Impressão dos valores e suas somas \n",
    "print('Soma do total (Xi – Xbarra)*(Yi – Ybarra)     : ', somaXxY)\n",
    "print('Soma do total (Xi – Xbarra)²                  : ', somaX2)\n",
    "print('Soma do total (Yi – Ybarra)²                  : ', somaY2)\n",
    "print('Soma do total (Xi – Xbarra)² * (Yi – Ybarra)² : ', X2xY2)\n"
   ]
  },
  {
   "cell_type": "code",
   "execution_count": 9,
   "metadata": {},
   "outputs": [
    {
     "name": "stdout",
     "output_type": "stream",
     "text": [
      "Correlação da reta é:  1.0\n"
     ]
    }
   ],
   "source": [
    "# Cálculo da Correlação da Reta e sua impressão\n",
    "Corr = somaXxY / math.sqrt(X2xY2)\n",
    "print('Correlação da reta é: ', Corr)\n"
   ]
  },
  {
   "cell_type": "code",
   "execution_count": 10,
   "metadata": {},
   "outputs": [],
   "source": [
    "# Insere a soma para fazer a correlação na tabela CSV\n",
    "frame.loc[size + 1, '(Xi – Xbarra)*(Yi – Ybarra)']     = somaXxY\n",
    "frame.loc[size + 1, '(Xi – Xbarra)²']                  = somaX2\n",
    "frame.loc[size + 1, '(Yi – Ybarra)²']                  = somaY2\n",
    "frame.loc[size + 1, '(Xi – Xbarra)² * (Yi – Ybarra)²'] = X2xY2\n",
    "frame.loc[size + 1, 'Correlação']                      = Corr\n"
   ]
  },
  {
   "cell_type": "code",
   "execution_count": 11,
   "metadata": {},
   "outputs": [
    {
     "data": {
      "text/html": [
       "<div>\n",
       "<style scoped>\n",
       "    .dataframe tbody tr th:only-of-type {\n",
       "        vertical-align: middle;\n",
       "    }\n",
       "\n",
       "    .dataframe tbody tr th {\n",
       "        vertical-align: top;\n",
       "    }\n",
       "\n",
       "    .dataframe thead th {\n",
       "        text-align: right;\n",
       "    }\n",
       "</style>\n",
       "<table border=\"1\" class=\"dataframe\">\n",
       "  <thead>\n",
       "    <tr style=\"text-align: right;\">\n",
       "      <th></th>\n",
       "      <th>X</th>\n",
       "      <th>Y</th>\n",
       "      <th>(Xi – Xbarra)</th>\n",
       "      <th>(Yi – Ybarra)</th>\n",
       "      <th>(Xi – Xbarra)*(Yi – Ybarra)</th>\n",
       "      <th>(Xi – Xbarra)²</th>\n",
       "      <th>(Yi – Ybarra)²</th>\n",
       "      <th>(Xi – Xbarra)² * (Yi – Ybarra)²</th>\n",
       "      <th>Correlação</th>\n",
       "    </tr>\n",
       "  </thead>\n",
       "  <tbody>\n",
       "    <tr>\n",
       "      <th>0</th>\n",
       "      <td>1.0</td>\n",
       "      <td>2.0</td>\n",
       "      <td>-3.0</td>\n",
       "      <td>-3.0</td>\n",
       "      <td>9.0</td>\n",
       "      <td>9.0</td>\n",
       "      <td>9.0</td>\n",
       "      <td>81.0</td>\n",
       "      <td>NaN</td>\n",
       "    </tr>\n",
       "    <tr>\n",
       "      <th>1</th>\n",
       "      <td>3.0</td>\n",
       "      <td>4.0</td>\n",
       "      <td>-1.0</td>\n",
       "      <td>-1.0</td>\n",
       "      <td>1.0</td>\n",
       "      <td>1.0</td>\n",
       "      <td>1.0</td>\n",
       "      <td>1.0</td>\n",
       "      <td>NaN</td>\n",
       "    </tr>\n",
       "    <tr>\n",
       "      <th>2</th>\n",
       "      <td>5.0</td>\n",
       "      <td>6.0</td>\n",
       "      <td>1.0</td>\n",
       "      <td>1.0</td>\n",
       "      <td>1.0</td>\n",
       "      <td>1.0</td>\n",
       "      <td>1.0</td>\n",
       "      <td>1.0</td>\n",
       "      <td>NaN</td>\n",
       "    </tr>\n",
       "    <tr>\n",
       "      <th>3</th>\n",
       "      <td>7.0</td>\n",
       "      <td>8.0</td>\n",
       "      <td>3.0</td>\n",
       "      <td>3.0</td>\n",
       "      <td>9.0</td>\n",
       "      <td>9.0</td>\n",
       "      <td>9.0</td>\n",
       "      <td>81.0</td>\n",
       "      <td>NaN</td>\n",
       "    </tr>\n",
       "    <tr>\n",
       "      <th>5</th>\n",
       "      <td>NaN</td>\n",
       "      <td>NaN</td>\n",
       "      <td>NaN</td>\n",
       "      <td>NaN</td>\n",
       "      <td>20.0</td>\n",
       "      <td>20.0</td>\n",
       "      <td>20.0</td>\n",
       "      <td>400.0</td>\n",
       "      <td>1.0</td>\n",
       "    </tr>\n",
       "  </tbody>\n",
       "</table>\n",
       "</div>"
      ],
      "text/plain": [
       "     X    Y  (Xi – Xbarra)  (Yi – Ybarra)  (Xi – Xbarra)*(Yi – Ybarra)  \\\n",
       "0  1.0  2.0           -3.0           -3.0                          9.0   \n",
       "1  3.0  4.0           -1.0           -1.0                          1.0   \n",
       "2  5.0  6.0            1.0            1.0                          1.0   \n",
       "3  7.0  8.0            3.0            3.0                          9.0   \n",
       "5  NaN  NaN            NaN            NaN                         20.0   \n",
       "\n",
       "   (Xi – Xbarra)²  (Yi – Ybarra)²  (Xi – Xbarra)² * (Yi – Ybarra)²  Correlação  \n",
       "0             9.0             9.0                             81.0         NaN  \n",
       "1             1.0             1.0                              1.0         NaN  \n",
       "2             1.0             1.0                              1.0         NaN  \n",
       "3             9.0             9.0                             81.0         NaN  \n",
       "5            20.0            20.0                            400.0         1.0  "
      ]
     },
     "execution_count": 11,
     "metadata": {},
     "output_type": "execute_result"
    }
   ],
   "source": [
    "# Exibindo a tabela final\n",
    "frame\n"
   ]
  },
  {
   "cell_type": "code",
   "execution_count": 12,
   "metadata": {},
   "outputs": [
    {
     "ename": "TypeError",
     "evalue": "lmplot() got an unexpected keyword argument 'size'",
     "output_type": "error",
     "traceback": [
      "\u001b[1;31m---------------------------------------------------------------------------\u001b[0m",
      "\u001b[1;31mTypeError\u001b[0m                                 Traceback (most recent call last)",
      "Cell \u001b[1;32mIn[12], line 2\u001b[0m\n\u001b[0;32m      1\u001b[0m sb\u001b[38;5;241m.\u001b[39mset()\n\u001b[1;32m----> 2\u001b[0m AttvTot \u001b[38;5;241m=\u001b[39m \u001b[43msb\u001b[49m\u001b[38;5;241;43m.\u001b[39;49m\u001b[43mlmplot\u001b[49m\u001b[43m(\u001b[49m\u001b[43mx\u001b[49m\u001b[38;5;241;43m=\u001b[39;49m\u001b[38;5;124;43m'\u001b[39;49m\u001b[38;5;124;43mX\u001b[39;49m\u001b[38;5;124;43m'\u001b[39;49m\u001b[43m,\u001b[49m\u001b[43m \u001b[49m\u001b[43my\u001b[49m\u001b[38;5;241;43m=\u001b[39;49m\u001b[38;5;124;43m'\u001b[39;49m\u001b[38;5;124;43mY\u001b[39;49m\u001b[38;5;124;43m'\u001b[39;49m\u001b[43m,\u001b[49m\u001b[43mdata\u001b[49m\u001b[38;5;241;43m=\u001b[39;49m\u001b[43mframe\u001b[49m\u001b[43m,\u001b[49m\n\u001b[0;32m      3\u001b[0m \u001b[43m                   \u001b[49m\u001b[43mfit_reg\u001b[49m\u001b[43m \u001b[49m\u001b[38;5;241;43m=\u001b[39;49m\u001b[43m \u001b[49m\u001b[38;5;28;43;01mFalse\u001b[39;49;00m\u001b[43m,\u001b[49m\u001b[43m \u001b[49m\u001b[43msize\u001b[49m\u001b[43m \u001b[49m\u001b[38;5;241;43m=\u001b[39;49m\u001b[43m \u001b[49m\u001b[38;5;241;43m9\u001b[39;49m\u001b[43m,\u001b[49m\u001b[43m \u001b[49m\u001b[43maspect\u001b[49m\u001b[43m \u001b[49m\u001b[38;5;241;43m=\u001b[39;49m\u001b[43m \u001b[49m\u001b[38;5;241;43m1.2\u001b[39;49m\u001b[43m)\u001b[49m \u001b[38;5;66;03m#Can Add Hue to distinguish types\u001b[39;00m\n\u001b[0;32m      4\u001b[0m plt\u001b[38;5;241m.\u001b[39mylim()\n\u001b[0;32m      5\u001b[0m plt\u001b[38;5;241m.\u001b[39mxlim()\n",
      "\u001b[1;31mTypeError\u001b[0m: lmplot() got an unexpected keyword argument 'size'"
     ]
    }
   ],
   "source": [
    "# Plotando o gráfico\n",
    "sb.set()\n",
    "AttvTot = sb.lmplot(x='X', y='Y', data=frame, fit_reg=False, height=9, aspect=1.2)  # 'size' substituído por 'height'\n",
    "plt.ylim()\n",
    "plt.xlim()\n",
    "plt.title('X vs. Y', fontsize=25)\n",
    "plt.xlabel('X', fontsize=18)\n",
    "plt.ylabel('Y', fontsize=18)\n",
    "AttvTot.savefig(\"image.png\")\n"
   ]
  },
  {
   "cell_type": "code",
   "execution_count": null,
   "metadata": {},
   "outputs": [],
   "source": [
    "# Salvando a tabela final em um arquivo CSV\n",
    "frame.to_csv('solucao.csv')\n"
   ]
  },
  {
   "cell_type": "code",
   "execution_count": null,
   "metadata": {},
   "outputs": [],
   "source": []
  },
  {
   "cell_type": "code",
   "execution_count": null,
   "metadata": {},
   "outputs": [],
   "source": []
  },
  {
   "cell_type": "code",
   "execution_count": null,
   "metadata": {},
   "outputs": [],
   "source": []
  },
  {
   "cell_type": "code",
   "execution_count": null,
   "metadata": {},
   "outputs": [],
   "source": []
  },
  {
   "cell_type": "code",
   "execution_count": null,
   "metadata": {},
   "outputs": [],
   "source": []
  },
  {
   "cell_type": "code",
   "execution_count": null,
   "metadata": {},
   "outputs": [],
   "source": []
  },
  {
   "cell_type": "code",
   "execution_count": null,
   "metadata": {},
   "outputs": [],
   "source": []
  }
 ],
 "metadata": {
  "kernelspec": {
   "display_name": "Python 3 (ipykernel)",
   "language": "python",
   "name": "python3"
  },
  "language_info": {
   "codemirror_mode": {
    "name": "ipython",
    "version": 3
   },
   "file_extension": ".py",
   "mimetype": "text/x-python",
   "name": "python",
   "nbconvert_exporter": "python",
   "pygments_lexer": "ipython3",
   "version": "3.12.5"
  }
 },
 "nbformat": 4,
 "nbformat_minor": 4
}
