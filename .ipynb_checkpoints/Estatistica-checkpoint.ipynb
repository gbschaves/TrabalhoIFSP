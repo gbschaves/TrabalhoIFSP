{
 "cells": [
  {
   "cell_type": "code",
   "execution_count": null,
   "metadata": {},
   "outputs": [],
   "source": [
    "import pandas as pd\n",
    "import numpy as np\n",
    "import seaborn as sb\n",
    "import seaborn as sns\n",
    "%matplotlib inline\n",
    "import matplotlib.pyplot as plt\n",
    "import math"
   ]
  },
  {
   "cell_type": "code",
   "execution_count": null,
   "metadata": {
    "scrolled": true
   },
   "outputs": [],
   "source": [
    "frame = pd.read_csv('calcular.csv')"
   ]
  },
  {
   "cell_type": "code",
   "execution_count": null,
   "metadata": {},
   "outputs": [],
   "source": [
    "frame"
   ]
  },
  {
   "cell_type": "code",
   "execution_count": null,
   "metadata": {},
   "outputs": [],
   "source": [
    "#recebe o total de valores da coluna de dados.\n",
    "size = frame.shape[0]"
   ]
  },
  {
   "cell_type": "code",
   "execution_count": null,
   "metadata": {},
   "outputs": [],
   "source": [
    "#Obtendo Xbarra e Ybarra\n",
    "mediaX = frame['X'].sum()/size\n",
    "mediaY = frame['Y'].sum()/size"
   ]
  },
  {
   "cell_type": "code",
   "execution_count": null,
   "metadata": {
    "scrolled": false
   },
   "outputs": [],
   "source": [
    "#completa a Tabela (Xi – Xbarra) e (Yi – Ybarra)\n",
    "#Com os valores onde Xi -> É o valor atual da linha\n",
    "#E Xbarra é a média dos valores\n",
    "#Os códigos seguintes são a definição para resoulção da tabela\n",
    "for cont in range(size):\n",
    "    frame.loc[cont,'(Xi – Xbarra)']                   = frame.loc[cont,'X'] - mediaX\n",
    "    frame.loc[cont,'(Yi – Ybarra)']                   = frame.loc[cont,'Y'] - mediaY\n",
    "    frame.loc[cont,'(Xi – Xbarra)*(Yi – Ybarra)']     = frame.loc[cont,'(Xi – Xbarra)'] * frame.loc[cont,'(Yi – Ybarra)']\n",
    "    frame.loc[cont,'(Xi – Xbarra)²']                  = frame.loc[cont,'(Xi – Xbarra)'] ** 2\n",
    "    frame.loc[cont,'(Yi – Ybarra)²']                  = frame.loc[cont,'(Yi – Ybarra)'] ** 2\n",
    "    frame.loc[cont,'(Xi – Xbarra)² * (Yi – Ybarra)²'] = frame.loc[cont,'(Xi – Xbarra)²'] * frame.loc[cont,'(Yi – Ybarra)²']"
   ]
  },
  {
   "cell_type": "code",
   "execution_count": null,
   "metadata": {},
   "outputs": [],
   "source": [
    "#Soma dos resultado das tabelas para calcular a Correlação da reta\n",
    "somaXxY = frame['(Xi – Xbarra)*(Yi – Ybarra)'].sum()\n",
    "somaX2  = frame['(Xi – Xbarra)²'].sum()\n",
    "somaY2  = frame['(Yi – Ybarra)²'].sum()\n",
    "X2xY2   = somaX2 * somaY2"
   ]
  },
  {
   "cell_type": "code",
   "execution_count": null,
   "metadata": {},
   "outputs": [],
   "source": [
    "#impressão dos valores e suas somas \n",
    "print('Soma do total (Xi – Xbarra)*(Yi – Ybarra)     : ',(somaXxY))\n",
    "print('Soma do total (Xi – Xbarra)²                  : ',(somaX2))\n",
    "print('Soma do total (Yi – Ybarra)²                  : ',(somaY2))\n",
    "print('Soma do total (Yi – Ybarra)²                  : ',(somaY2))\n",
    "print('Soma do total (Xi – Xbarra)² * (Yi – Ybarra)² : ',(X2xY2))"
   ]
  },
  {
   "cell_type": "code",
   "execution_count": null,
   "metadata": {},
   "outputs": [],
   "source": [
    "#Calculo da Correlação da Reta e sua impressão\n",
    "Corr = somaXxY / math.sqrt(X2xY2)\n",
    "print('Correlação da reta é: ', (Corr))"
   ]
  },
  {
   "cell_type": "code",
   "execution_count": null,
   "metadata": {},
   "outputs": [],
   "source": [
    "#Insere a soma para fazer a correlação na tabela CSV\n",
    "frame.loc[size+1,'(Xi – Xbarra)*(Yi – Ybarra)']     = somaXxY\n",
    "frame.loc[size+1,'(Xi – Xbarra)²']                  = somaX2\n",
    "frame.loc[size+1,'(Yi – Ybarra)²']                  = somaY2\n",
    "frame.loc[size+1,'(Xi – Xbarra)² * (Yi – Ybarra)²'] = X2xY2\n",
    "frame.loc[size+1,'Correlação']                      = Corr"
   ]
  },
  {
   "cell_type": "code",
   "execution_count": null,
   "metadata": {},
   "outputs": [],
   "source": [
    "frame"
   ]
  },
  {
   "cell_type": "code",
   "execution_count": null,
   "metadata": {},
   "outputs": [],
   "source": [
    "sb.set()\n",
    "AttvTot = sb.lmplot(x='X', y='Y',data=frame,\n",
    "                   fit_reg = False, size = 9, aspect = 1.2) #Can Add Hue to distinguish types\n",
    "plt.ylim()\n",
    "plt.xlim()\n",
    "plt.title('X vs. Y',fontsize = 25)\n",
    "plt.xlabel('X',fontsize = 18)\n",
    "plt.ylabel('Y',fontsize = 18)\n",
    "AttvTot.savefig(\"image.png\")"
   ]
  },
  {
   "cell_type": "code",
   "execution_count": null,
   "metadata": {},
   "outputs": [],
   "source": [
    "frame.to_csv('solucao.csv')"
   ]
  }
 ],
 "metadata": {
  "kernelspec": {
   "display_name": "Python 3",
   "language": "python",
   "name": "python3"
  },
  "language_info": {
   "codemirror_mode": {
    "name": "ipython",
    "version": 3
   },
   "file_extension": ".py",
   "mimetype": "text/x-python",
   "name": "python",
   "nbconvert_exporter": "python",
   "pygments_lexer": "ipython3",
   "version": "3.6.5"
  }
 },
 "nbformat": 4,
 "nbformat_minor": 2
}
